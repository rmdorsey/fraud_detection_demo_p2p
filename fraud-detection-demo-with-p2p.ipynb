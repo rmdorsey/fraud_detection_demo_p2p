{
 "cells": [
  {
   "cell_type": "code",
   "execution_count": 115,
   "metadata": {},
   "outputs": [],
   "source": [
    "import pandas as pd\n",
    "import configparser\n",
    "import os\n",
    "from neo4j import GraphDatabase, basic_auth\n",
    "from graphdatascience import GraphDataScience\n",
    "pd.set_option('display.width', 0)\n",
    "pd.set_option('display.max_colwidth', 500)\n",
    "pd.set_option('display.max_rows', 50)"
   ]
  },
  {
   "cell_type": "code",
   "execution_count": 116,
   "metadata": {},
   "outputs": [
    {
     "name": "stdout",
     "output_type": "stream",
     "text": [
      "hello world\n"
     ]
    }
   ],
   "source": [
    "print(\"hello world\")"
   ]
  },
  {
   "cell_type": "code",
   "execution_count": 117,
   "metadata": {},
   "outputs": [],
   "source": [
    "NEO4J_PROPERTIES_FILE = 'resources/aura-p2p-fd.ini'"
   ]
  },
  {
   "cell_type": "code",
   "execution_count": 118,
   "metadata": {},
   "outputs": [
    {
     "name": "stdout",
     "output_type": "stream",
     "text": [
      "Using custom database properties\n"
     ]
    }
   ],
   "source": [
    "## Using an ini file for credentials, otherwise providing defaults\n",
    "HOST = 'neo4j://localhost'\n",
    "USERNAME = 'neo4j'\n",
    "PASSWORD = 'password'\n",
    "\n",
    "if NEO4J_PROPERTIES_FILE is not None and os.path.exists(NEO4J_PROPERTIES_FILE):\n",
    "    config = configparser.RawConfigParser()\n",
    "    config.read(NEO4J_PROPERTIES_FILE)\n",
    "    HOST = config['NEO4J']['HOST']\n",
    "    USERNAME = config['NEO4J']['USERNAME']\n",
    "    PASSWORD = config['NEO4J']['PASSWORD']\n",
    "    DATABASE = config['NEO4J'].get('DATABASE', 'frauddb')\n",
    "\n",
    "    print('Using custom database properties')\n",
    "else:\n",
    "    print('Could not find database properties file, using defaults')"
   ]
  },
  {
   "cell_type": "code",
   "execution_count": 119,
   "metadata": {},
   "outputs": [],
   "source": [
    "# Use Neo4j URI and credentials according to your setup\n",
    "# gds = GraphDatabase.driver(HOST, auth=basic_auth(USERNAME, PASSWORD))\n",
    "gds = GraphDataScience(HOST, auth=(USERNAME, PASSWORD), database=\"frauddb\")"
   ]
  },
  {
   "cell_type": "code",
   "execution_count": null,
   "metadata": {},
   "outputs": [],
   "source": [
    "def clear_graph_by_name(g_name):\n",
    "    \"\"\"\n",
    "    Safely clears a projected graph in the Neo4j Graph Data Science (GDS) library.\n",
    "\n",
    "    Parameters:\n",
    "    g_name (str): The name of the projected graph to be cleared.\n",
    "\n",
    "    Steps:\n",
    "    1. Check if the graph with the given name exists in GDS.\n",
    "    2. If the graph exists, retrieve it.\n",
    "    3. Drop (delete) the graph from memory to free up resources.\n",
    "    \"\"\"\n",
    "    \n",
    "    # Step 1: Check if the graph exists in the GDS catalog\n",
    "    if gds.graph.exists(g_name).exists:\n",
    "        # Step 2: Retrieve the existing graph object\n",
    "        g = gds.graph.get(g_name)\n",
    "        # Step 3: Drop the graph to free up memory and prevent conflicts with new projections\n",
    "        gds.graph.drop(g)\n",
    "\n",
    "def clear_all_graphs():\n",
    "    g_names = gds.graph.list().graphName.tolist()\n",
    "    for g_name in g_names:\n",
    "        g = gds.graph.get(g_name)\n",
    "        gds.graph.drop(g)\n",
    "\n",
    "def identifier_degrees(user_label, degree_property):\n",
    "    \"\"\"\n",
    "    Projects a subgraph in Neo4j's Graph Data Science (GDS) library, computes degree centrality,\n",
    "    and writes the computed property back to the database.\n",
    "\n",
    "    Degree centrality is a graph algorithm that measures the number of direct connections\n",
    "    (edges) a node has to other nodes.  It helps identify highly connected nodes in a network.\n",
    "    \n",
    "    Parameters:\n",
    "    user_label (str): The label of the user nodes to include in the projection (e.g., 'User' or 'FlaggedUser').\n",
    "    degree_property (str): The name of the property where the degree centrality values will be stored.\n",
    "\n",
    "    Steps:\n",
    "    1. Define a unique name for the projected graph (`g_name`).\n",
    "    2. Clear any existing projected graph with the same name to prevent conflicts.\n",
    "    3. Create a new graph projection, including specified node labels and relationships.\n",
    "    4. Compute degree centrality for the projected graph and store it as `degree_property`.\n",
    "    5. Write the computed centrality values back to the Neo4j database for specific node types.\n",
    "    6. Drop the projected graph to free up memory.\n",
    "    \"\"\"\n",
    "\n",
    "    # Step 1: Define a unique graph projection name\n",
    "    # A graph projection in GDS library is a simplified in-memory representation of your database's \n",
    "    # graph that is optimized for graph algorithms \n",
    "    g_name = 'id-projection'\n",
    "\n",
    "    # Step 2: Clear any existing graph with the same name to avoid conflicts\n",
    "    clear_graph_by_name(g_name)\n",
    "\n",
    "    # Step 3: Project a graph with specific node labels and relationship types\n",
    "    # user_label is a dynamic variable representing a type of user node that will be \n",
    "    # included in the graph projection.\n",
    "    # In Python, _ (underscore) is commonly used as a convention to indicate that a returned value is intentionally being ignored.\n",
    "    g, _ = gds.graph.project(\n",
    "        g_name, \n",
    "        [user_label, 'Card', 'Device', 'IP'],  # ✅ Nodes included in the projection\n",
    "        {\n",
    "            'HAS_CC': {'orientation': 'REVERSE'},  # ✅ Reverse the relationship direction for analysis\n",
    "            'HAS_IP': {'orientation': 'REVERSE'},\n",
    "            'USED': {'orientation': 'REVERSE'}\n",
    "        }\n",
    "    )\n",
    "\n",
    "    # Step 4: Compute degree centrality and store it in `degree_property`\n",
    "    # higher degree -> more connections -> more influence or risk\n",
    "    # lower degree -> fewer connections -> less influence or risk\n",
    "    # mutate computes the degree centrality for each node in the in-memory projection g\n",
    "    # stores computed values in a new property (degree_property) inside the projection\n",
    "    # modifies the in-memory graph but doesn't yet write to the database\n",
    "    # degree_property = 'degree' or 'flagged_degree'\n",
    "    gds.degree.mutate(g, mutateProperty=degree_property)\n",
    "\n",
    "    # Step 5: Write the computed centrality values back to the Neo4j database\n",
    "    # g is the in-memory projected graph where the degree centrality was computed\n",
    "    # degree_property is the property to write (e.g. degree or flagged_degree).  \n",
    "    # it stores the number of direct connections\n",
    "    # ['Card', 'Device', 'IP'] is a list of node labels to which the property will be written\n",
    "    # In graph theory, the degree of a node is the number of direct connetcions (edges) it has to other nodes\n",
    "    gds.graph.writeNodeProperties(g, [degree_property], ['Card', 'Device', 'IP'])\n",
    "\n",
    "    # Step 6: Drop the projected graph to free up memory\n",
    "    g.drop()\n"
   ]
  },
  {
   "cell_type": "code",
   "execution_count": 122,
   "metadata": {},
   "outputs": [
    {
     "name": "stdout",
     "output_type": "stream",
     "text": [
      "2.2.2\n"
     ]
    }
   ],
   "source": [
    "import numpy\n",
    "print(numpy.__version__)"
   ]
  },
  {
   "cell_type": "code",
   "execution_count": null,
   "metadata": {},
   "outputs": [
    {
     "data": {
      "text/html": [
       "<div>\n",
       "<style scoped>\n",
       "    .dataframe tbody tr th:only-of-type {\n",
       "        vertical-align: middle;\n",
       "    }\n",
       "\n",
       "    .dataframe tbody tr th {\n",
       "        vertical-align: top;\n",
       "    }\n",
       "\n",
       "    .dataframe thead th {\n",
       "        text-align: right;\n",
       "    }\n",
       "</style>\n",
       "<table border=\"1\" class=\"dataframe\">\n",
       "  <thead>\n",
       "    <tr style=\"text-align: right;\">\n",
       "      <th></th>\n",
       "      <th>nodeLabel</th>\n",
       "      <th>nodeCount</th>\n",
       "    </tr>\n",
       "  </thead>\n",
       "  <tbody>\n",
       "    <tr>\n",
       "      <th>0</th>\n",
       "      <td>User</td>\n",
       "      <td>33732</td>\n",
       "    </tr>\n",
       "    <tr>\n",
       "      <th>1</th>\n",
       "      <td>FlaggedUser</td>\n",
       "      <td>241</td>\n",
       "    </tr>\n",
       "    <tr>\n",
       "      <th>2</th>\n",
       "      <td>Device</td>\n",
       "      <td>51451</td>\n",
       "    </tr>\n",
       "    <tr>\n",
       "      <th>3</th>\n",
       "      <td>Card</td>\n",
       "      <td>118818</td>\n",
       "    </tr>\n",
       "    <tr>\n",
       "      <th>4</th>\n",
       "      <td>IP</td>\n",
       "      <td>585855</td>\n",
       "    </tr>\n",
       "  </tbody>\n",
       "</table>\n",
       "</div>"
      ],
      "text/plain": [
       "     nodeLabel  nodeCount\n",
       "0         User      33732\n",
       "1  FlaggedUser        241\n",
       "2       Device      51451\n",
       "3         Card     118818\n",
       "4           IP     585855"
      ]
     },
     "execution_count": 133,
     "metadata": {},
     "output_type": "execute_result"
    }
   ],
   "source": [
    "# APOC (Awesome Procedures on Cypher).\n",
    "# meta.stats() procedure, which provides metadata about the Neo4j database.\n",
    "# YIELD labels extracts only the labels field from the apoc.meta.stats() result.\n",
    "# UNWIND keys(labels) AS nodeLabel – Convert Dictionary to Rows\n",
    "# Without UNWIND, the data remains a single row:\n",
    "# {User: 100, Card: 200, Device: 300, IP: 400}\n",
    "# UNWIND Allows Individual Access to Each Label\n",
    "\n",
    "# total node counts\n",
    "gds.run_cypher('''\n",
    "    CALL apoc.meta.stats()\n",
    "    YIELD labels\n",
    "    UNWIND keys(labels) AS nodeLabel\n",
    "    RETURN nodeLabel, labels[nodeLabel] AS nodeCount\n",
    "''', database='frauddb')"
   ]
  },
  {
   "cell_type": "code",
   "execution_count": 124,
   "metadata": {},
   "outputs": [
    {
     "data": {
      "text/html": [
       "<div>\n",
       "<style scoped>\n",
       "    .dataframe tbody tr th:only-of-type {\n",
       "        vertical-align: middle;\n",
       "    }\n",
       "\n",
       "    .dataframe tbody tr th {\n",
       "        vertical-align: top;\n",
       "    }\n",
       "\n",
       "    .dataframe thead th {\n",
       "        text-align: right;\n",
       "    }\n",
       "</style>\n",
       "<table border=\"1\" class=\"dataframe\">\n",
       "  <thead>\n",
       "    <tr style=\"text-align: right;\">\n",
       "      <th></th>\n",
       "      <th>relationshipType</th>\n",
       "      <th>relationshipCount</th>\n",
       "    </tr>\n",
       "  </thead>\n",
       "  <tbody>\n",
       "    <tr>\n",
       "      <th>0</th>\n",
       "      <td>USED</td>\n",
       "      <td>55026</td>\n",
       "    </tr>\n",
       "    <tr>\n",
       "      <th>1</th>\n",
       "      <td>HAS_IP</td>\n",
       "      <td>1488949</td>\n",
       "    </tr>\n",
       "    <tr>\n",
       "      <th>2</th>\n",
       "      <td>HAS_CC</td>\n",
       "      <td>128066</td>\n",
       "    </tr>\n",
       "    <tr>\n",
       "      <th>3</th>\n",
       "      <td>REFERRED</td>\n",
       "      <td>1870</td>\n",
       "    </tr>\n",
       "    <tr>\n",
       "      <th>4</th>\n",
       "      <td>P2P</td>\n",
       "      <td>102832</td>\n",
       "    </tr>\n",
       "  </tbody>\n",
       "</table>\n",
       "</div>"
      ],
      "text/plain": [
       "  relationshipType  relationshipCount\n",
       "0             USED              55026\n",
       "1           HAS_IP            1488949\n",
       "2           HAS_CC             128066\n",
       "3         REFERRED               1870\n",
       "4              P2P             102832"
      ]
     },
     "execution_count": 124,
     "metadata": {},
     "output_type": "execute_result"
    }
   ],
   "source": [
    "gds.run_cypher('''\n",
    "    CALL apoc.meta.stats()\n",
    "    YIELD relTypesCount\n",
    "    UNWIND keys(relTypesCount) AS relationshipType\n",
    "    RETURN relationshipType, relTypesCount[relationshipType] AS relationshipCount\n",
    "''', database='frauddb')"
   ]
  },
  {
   "cell_type": "code",
   "execution_count": 125,
   "metadata": {},
   "outputs": [
    {
     "data": {
      "text/html": [
       "<div>\n",
       "<style scoped>\n",
       "    .dataframe tbody tr th:only-of-type {\n",
       "        vertical-align: middle;\n",
       "    }\n",
       "\n",
       "    .dataframe tbody tr th {\n",
       "        vertical-align: top;\n",
       "    }\n",
       "\n",
       "    .dataframe thead th {\n",
       "        text-align: right;\n",
       "    }\n",
       "</style>\n",
       "<table border=\"1\" class=\"dataframe\">\n",
       "  <thead>\n",
       "    <tr style=\"text-align: right;\">\n",
       "      <th></th>\n",
       "      <th>fraudMoneyTransfer</th>\n",
       "      <th>cnt</th>\n",
       "    </tr>\n",
       "  </thead>\n",
       "  <tbody>\n",
       "    <tr>\n",
       "      <th>0</th>\n",
       "      <td>0</td>\n",
       "      <td>33491</td>\n",
       "    </tr>\n",
       "    <tr>\n",
       "      <th>1</th>\n",
       "      <td>1</td>\n",
       "      <td>241</td>\n",
       "    </tr>\n",
       "  </tbody>\n",
       "</table>\n",
       "</div>"
      ],
      "text/plain": [
       "   fraudMoneyTransfer    cnt\n",
       "0                   0  33491\n",
       "1                   1    241"
      ]
     },
     "execution_count": 125,
     "metadata": {},
     "output_type": "execute_result"
    }
   ],
   "source": [
    "gds.run_cypher('''\n",
    "    MATCH(u:User) RETURN u.fraudMoneyTransfer AS fraudMoneyTransfer, count(u) AS cnt\n",
    "''', database='frauddb')"
   ]
  },
  {
   "cell_type": "code",
   "execution_count": null,
   "metadata": {},
   "outputs": [
    {
     "data": {
      "text/html": [
       "<div>\n",
       "<style scoped>\n",
       "    .dataframe tbody tr th:only-of-type {\n",
       "        vertical-align: middle;\n",
       "    }\n",
       "\n",
       "    .dataframe tbody tr th {\n",
       "        vertical-align: top;\n",
       "    }\n",
       "\n",
       "    .dataframe thead th {\n",
       "        text-align: right;\n",
       "    }\n",
       "</style>\n",
       "<table border=\"1\" class=\"dataframe\">\n",
       "  <thead>\n",
       "    <tr style=\"text-align: right;\">\n",
       "      <th></th>\n",
       "      <th>count(u)</th>\n",
       "    </tr>\n",
       "  </thead>\n",
       "  <tbody>\n",
       "    <tr>\n",
       "      <th>0</th>\n",
       "      <td>241</td>\n",
       "    </tr>\n",
       "  </tbody>\n",
       "</table>\n",
       "</div>"
      ],
      "text/plain": [
       "   count(u)\n",
       "0       241"
      ]
     },
     "execution_count": 126,
     "metadata": {},
     "output_type": "execute_result"
    }
   ],
   "source": [
    "# This query identifies all User nodes involved in fraudulent money transfers, assigns them the FlaggedUser label, and returns the count of affected users.\n",
    "\n",
    "gds.run_cypher('''\n",
    "    MATCH(u:User) WHERE u.fraudMoneyTransfer=1 SET u:FlaggedUser RETURN count(u)\n",
    "''', database='frauddb')"
   ]
  },
  {
   "cell_type": "code",
   "execution_count": 129,
   "metadata": {},
   "outputs": [
    {
     "data": {
      "text/html": [
       "<div>\n",
       "<style scoped>\n",
       "    .dataframe tbody tr th:only-of-type {\n",
       "        vertical-align: middle;\n",
       "    }\n",
       "\n",
       "    .dataframe tbody tr th {\n",
       "        vertical-align: top;\n",
       "    }\n",
       "\n",
       "    .dataframe thead th {\n",
       "        text-align: right;\n",
       "    }\n",
       "</style>\n",
       "<table border=\"1\" class=\"dataframe\">\n",
       "  <thead>\n",
       "    <tr style=\"text-align: right;\">\n",
       "      <th></th>\n",
       "    </tr>\n",
       "  </thead>\n",
       "  <tbody>\n",
       "  </tbody>\n",
       "</table>\n",
       "</div>"
      ],
      "text/plain": [
       "Empty DataFrame\n",
       "Columns: []\n",
       "Index: []"
      ]
     },
     "execution_count": 129,
     "metadata": {},
     "output_type": "execute_result"
    }
   ],
   "source": [
    "# Use GDS degree centrality to count the number of Users connected to each identifier type - Card, Device, IP\n",
    "identifier_degrees('User', 'degree')\n",
    "# Use GDS degree centrality to count the number of FLAGGED Users connected to each identifier type - Card, Device, IP\n",
    "identifier_degrees('FlaggedUser', 'flaggedDegree')\n",
    "\n",
    "# Calculate the ratio of flagged users to total users\n",
    "gds.run_cypher('''\n",
    "    MATCH(n) WHERE n:Card OR n:Device OR n:IP\n",
    "    SET n.flaggedRatio = toFloat(n.flaggedDegree)/toFloat(n.degree)\n",
    "''')"
   ]
  },
  {
   "cell_type": "code",
   "execution_count": 135,
   "metadata": {},
   "outputs": [
    {
     "name": "stdout",
     "output_type": "stream",
     "text": [
      "Flagged User Ratio for Card Count\n"
     ]
    },
    {
     "data": {
      "text/html": [
       "<div>\n",
       "<style scoped>\n",
       "    .dataframe tbody tr th:only-of-type {\n",
       "        vertical-align: middle;\n",
       "    }\n",
       "\n",
       "    .dataframe tbody tr th {\n",
       "        vertical-align: top;\n",
       "    }\n",
       "\n",
       "    .dataframe thead th {\n",
       "        text-align: right;\n",
       "    }\n",
       "</style>\n",
       "<table border=\"1\" class=\"dataframe\">\n",
       "  <thead>\n",
       "    <tr style=\"text-align: right;\">\n",
       "      <th></th>\n",
       "      <th>flaggedUserRatio</th>\n",
       "      <th>count</th>\n",
       "      <th>percentCount</th>\n",
       "    </tr>\n",
       "  </thead>\n",
       "  <tbody>\n",
       "    <tr>\n",
       "      <th>0</th>\n",
       "      <td>0</td>\n",
       "      <td>8185</td>\n",
       "      <td>0.964</td>\n",
       "    </tr>\n",
       "    <tr>\n",
       "      <th>1</th>\n",
       "      <td>1</td>\n",
       "      <td>31</td>\n",
       "      <td>0.004</td>\n",
       "    </tr>\n",
       "    <tr>\n",
       "      <th>2</th>\n",
       "      <td>Between 0-1</td>\n",
       "      <td>274</td>\n",
       "      <td>0.032</td>\n",
       "    </tr>\n",
       "  </tbody>\n",
       "</table>\n",
       "</div>"
      ],
      "text/plain": [
       "  flaggedUserRatio  count  percentCount\n",
       "0                0   8185         0.964\n",
       "1                1     31         0.004\n",
       "2      Between 0-1    274         0.032"
      ]
     },
     "execution_count": 135,
     "metadata": {},
     "output_type": "execute_result"
    }
   ],
   "source": [
    "print('Flagged User Ratio for Card Count')\n",
    "gds.run_cypher('''\n",
    "MATCH (n:Card)\n",
    "WHERE n.degree > 1\n",
    "WITH toFloat(count(n)) AS total  // ✅ Calculate total count first\n",
    "\n",
    "MATCH (n:Card)\n",
    "WHERE n.degree > 1\n",
    "WITH \n",
    "    CASE \n",
    "        WHEN n.flaggedRatio = 0 THEN '0'\n",
    "        WHEN n.flaggedRatio = 1 THEN '1'\n",
    "        ELSE 'Between 0-1' \n",
    "    END AS flaggedUserRatio, \n",
    "    total, \n",
    "    count(n) AS count  // ✅ Grouping on flaggedUserRatio\n",
    "\n",
    "RETURN \n",
    "    flaggedUserRatio, \n",
    "    count, \n",
    "    round(toFloat(count)/total, 3) AS percentCount\n",
    "ORDER BY flaggedUserRatio;\n",
    "\n",
    "''')"
   ]
  },
  {
   "cell_type": "code",
   "execution_count": null,
   "metadata": {},
   "outputs": [],
   "source": []
  }
 ],
 "metadata": {
  "kernelspec": {
   "display_name": "fraud-detection-demo",
   "language": "python",
   "name": "python3"
  },
  "language_info": {
   "codemirror_mode": {
    "name": "ipython",
    "version": 3
   },
   "file_extension": ".py",
   "mimetype": "text/x-python",
   "name": "python",
   "nbconvert_exporter": "python",
   "pygments_lexer": "ipython3",
   "version": "3.11.11"
  }
 },
 "nbformat": 4,
 "nbformat_minor": 2
}
